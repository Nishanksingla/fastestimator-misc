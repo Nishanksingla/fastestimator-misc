{
 "cells": [
  {
   "cell_type": "code",
   "execution_count": 5,
   "metadata": {},
   "outputs": [],
   "source": [
    "import sagemaker\n",
    "from sagemaker.tensorflow import TensorFlow\n",
    "import time\n",
    "import os"
   ]
  },
  {
   "cell_type": "code",
   "execution_count": 6,
   "metadata": {},
   "outputs": [],
   "source": [
    "def generate_s3_bucket(base_bucket):\n",
    "    ckpt_name = 'restore-wizard-' + time.strftime(\"%Y-%m-%d-%H-%M-%S\", time.gmtime())\n",
    "    return os.path.join(base_bucket, ckpt_name)"
   ]
  },
  {
   "cell_type": "code",
   "execution_count": 7,
   "metadata": {},
   "outputs": [
    {
     "name": "stderr",
     "output_type": "stream",
     "text": [
      "train_instance_type has been renamed in sagemaker>=2.\n",
      "See: https://sagemaker.readthedocs.io/en/stable/v2.html for details.\n",
      "train_instance_count has been renamed in sagemaker>=2.\n",
      "See: https://sagemaker.readthedocs.io/en/stable/v2.html for details.\n",
      "train_instance_type has been renamed in sagemaker>=2.\n",
      "See: https://sagemaker.readthedocs.io/en/stable/v2.html for details.\n",
      "train_use_spot_instances has been renamed in sagemaker>=2.\n",
      "See: https://sagemaker.readthedocs.io/en/stable/v2.html for details.\n",
      "train_max_wait has been renamed in sagemaker>=2.\n",
      "See: https://sagemaker.readthedocs.io/en/stable/v2.html for details.\n"
     ]
    }
   ],
   "source": [
    "estimator = TensorFlow(entry_point='entry_point.sh',\n",
    "                       dependencies=[\"mnist_tf.py\"],\n",
    "                       train_instance_type='ml.p3.2xlarge',\n",
    "                       train_instance_count=1,\n",
    "                       role=sagemaker.get_execution_role(),\n",
    "                       base_job_name='FE-spot-showcase-restorewizard',\n",
    "                       framework_version='2.8',\n",
    "                       py_version='py39',\n",
    "                       script_mode=True,\n",
    "                       train_use_spot_instances=True,\n",
    "                       train_max_wait=86400,\n",
    "                       checkpoint_s3_uri=generate_s3_bucket(\"s3://team-ds/Xiaomeng/checkpoint\")) #change s3 bucket!"
   ]
  },
  {
   "cell_type": "code",
   "execution_count": 8,
   "metadata": {
    "scrolled": false
   },
   "outputs": [],
   "source": [
    "#in mnist example, we actually don't need the data location, but we are passing a dummy & unrelated dataset here\n",
    "estimator.fit(inputs='s3://fastestimator-public/Montgomery/Montgomery/', wait=False)"
   ]
  },
  {
   "cell_type": "code",
   "execution_count": null,
   "metadata": {},
   "outputs": [],
   "source": []
  }
 ],
 "metadata": {
  "kernelspec": {
   "display_name": "conda_tensorflow_p36",
   "language": "python",
   "name": "conda_tensorflow_p36"
  },
  "language_info": {
   "codemirror_mode": {
    "name": "ipython",
    "version": 3
   },
   "file_extension": ".py",
   "mimetype": "text/x-python",
   "name": "python",
   "nbconvert_exporter": "python",
   "pygments_lexer": "ipython3",
   "version": "3.6.13"
  }
 },
 "nbformat": 4,
 "nbformat_minor": 4
}
